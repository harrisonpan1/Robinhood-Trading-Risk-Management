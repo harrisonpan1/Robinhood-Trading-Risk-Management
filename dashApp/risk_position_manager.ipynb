{
 "cells": [
  {
   "cell_type": "code",
   "execution_count": 1,
   "id": "2dddaa98",
   "metadata": {},
   "outputs": [],
   "source": [
    "from login import Robinhood\n",
    "from trading_journal import *"
   ]
  },
  {
   "cell_type": "markdown",
   "id": "d65d8cc3",
   "metadata": {},
   "source": [
    "# login"
   ]
  },
  {
   "cell_type": "code",
   "execution_count": 2,
   "id": "32e0cd84",
   "metadata": {},
   "outputs": [
    {
     "name": "stdout",
     "output_type": "stream",
     "text": [
      "\n",
      "Attempting to log in...\n",
      "Please check your phone for any approval notifications.\n",
      "Starting login process...\n",
      "✅ Successfully logged in!\n"
     ]
    }
   ],
   "source": [
    "rh = Robinhood()"
   ]
  },
  {
   "cell_type": "markdown",
   "id": "0b878c0c",
   "metadata": {},
   "source": [
    "# generate historical order for stock and option"
   ]
  },
  {
   "cell_type": "code",
   "execution_count": 3,
   "id": "6bccb8da",
   "metadata": {},
   "outputs": [
    {
     "name": "stdout",
     "output_type": "stream",
     "text": [
      "\n",
      "--- Stock orders exported successfully ---\n",
      "Found Additional pages.\n",
      "Loading page 2 ...\n",
      "Loading page 3 ...\n",
      "Loading page 4 ...\n",
      "\n",
      "--- Option orders exported successfully ---\n"
     ]
    }
   ],
   "source": [
    "rh.export_stock_orders(\"./data\")\n",
    "print(\"\\n--- Stock orders exported successfully ---\")\n",
    "\n",
    "# test export_option_orders\n",
    "rh.export_option_orders(\"./data\")\n",
    "print(\"\\n--- Option orders exported successfully ---\")"
   ]
  },
  {
   "cell_type": "markdown",
   "id": "615f90fe",
   "metadata": {},
   "source": [
    "# trading journal"
   ]
  },
  {
   "cell_type": "code",
   "execution_count": 4,
   "id": "60716919",
   "metadata": {},
   "outputs": [
    {
     "name": "stdout",
     "output_type": "stream",
     "text": [
      "\n",
      "--- Creating stock and option journals ---\n",
      "--- Starting Trade Journal Calculation ---\n",
      "\n",
      "--- Step 1: Checking for option exercise/assignment events from Robinhood ---\n",
      "Processing symbol: SVIX\n",
      "  -> Found 'assignment' event for SVIX: sell 1000.00000000 @ 16.5000\n",
      "  -> Found 'assignment' event for SVIX: sell 1000.00000000 @ 15.5000\n",
      "  -> Found 'exercise' event for SVIX: buy 200.00000000 @ 11.0000\n",
      "  -> Found 'assignment' event for SVIX: buy 100.00000000 @ 12.0000\n",
      "  -> Found 'assignment' event for SVIX: buy 200.00000000 @ 16.5000\n",
      "  -> Found 'assignment' event for SVIX: buy 300.00000000 @ 17.5000\n",
      "  -> Found 'assignment' event for SVIX: buy 800.00000000 @ 14.0000\n",
      "  -> Found 'assignment' event for SVIX: buy 200.00000000 @ 13.0000\n",
      "  -> Found 'assignment' event for SVIX: buy 200.00000000 @ 15.0000\n",
      "  -> Found 'assignment' event for SVIX: buy 300.00000000 @ 18.5000\n",
      "  -> Found 'assignment' event for SVIX: buy 600.00000000 @ 14.5000\n",
      "  -> Found 'assignment' event for SVIX: buy 100.00000000 @ 13.0000\n",
      "  -> Found 'assignment' event for SVIX: buy 500.00000000 @ 21.5000\n",
      "Processing symbol: YINN\n",
      "  -> Found 'assignment' event for YINN: buy 100.00000000 @ 35.0000\n",
      "  -> Found 'assignment' event for YINN: buy 100.00000000 @ 37.5000\n",
      "  -> Found 'assignment' event for YINN: sell 100.00000000 @ 33.0000\n",
      "  -> Found 'assignment' event for YINN: buy 200.00000000 @ 26.0000\n",
      "  -> Found 'assignment' event for YINN: buy 200.00000000 @ 29.0000\n",
      "Processing symbol: UVIX\n",
      "  -> Found 'assignment' event for UVIX: buy 200.00000000 @ 19.0000\n",
      "  -> Found 'exercise' event for UVIX: buy 10.00000000 @ 10.0000\n",
      "  -> Found 'assignment' event for UVIX: buy 60.00000000 @ 30.0000\n",
      "  -> Found 'assignment' event for UVIX: buy 30.00000000 @ 35.0000\n",
      "  -> Found 'assignment' event for UVIX: buy 60.00000000 @ 35.0000\n",
      "Processing symbol: TSLL\n",
      "  -> Found 'assignment' event for TSLL: buy 500.00000000 @ 10.0000\n",
      "Processing symbol: RIOT\n",
      "  -> Found 'assignment' event for RIOT: buy 300.00000000 @ 8.5000\n",
      "  -> Found 'assignment' event for RIOT: buy 100.00000000 @ 11.0000\n",
      "Processing symbol: GRAB\n",
      "  -> Found 'assignment' event for GRAB: buy 400.00000000 @ 5.0000\n",
      "Processing symbol: TMF\n",
      "  -> Found 'assignment' event for TMF: buy 100.00000000 @ 41.0000\n",
      "Processing symbol: GME\n",
      "  -> Found 'assignment' event for GME: buy 100.00000000 @ 28.0000\n",
      "Processing symbol: MSTZ\n",
      "  -> Found 'assignment' event for MSTZ: buy 100.00000000 @ 4.0000\n",
      "  -> Found 'assignment' event for MSTZ: buy 300.00000000 @ 4.0000\n",
      "  -> Found 'assignment' event for MSTZ: buy 500.00000000 @ 7.0000\n",
      "  -> Found 'assignment' event for MSTZ: buy 300.00000000 @ 10.0000\n",
      "  -> Found 'assignment' event for MSTZ: buy 500.00000000 @ 8.0000\n",
      "  -> Found 'assignment' event for MSTZ: buy 200.00000000 @ 9.0000\n",
      "  -> Found 'assignment' event for MSTZ: buy 25.00000000 @ 20.0000\n",
      "  -> Found 'assignment' event for MSTZ: buy 50.00000000 @ 20.0000\n",
      "Processing symbol: CLSK\n",
      "  -> Found 'assignment' event for CLSK: buy 100.00000000 @ 10.0000\n",
      "Processing symbol: SPXU\n",
      "Processing symbol: UPRO\n",
      "Processing symbol: TQQQ\n",
      "Processing symbol: UCO\n",
      "Processing symbol: MSFT\n",
      "Processing symbol: SOXS\n",
      "  -> Found 'assignment' event for SOXS: buy 600.00000000 @ 8.0000\n",
      "  -> Found 'assignment' event for SOXS: buy 200.00000000 @ 8.5000\n",
      "  -> Found 'assignment' event for SOXS: buy 200.00000000 @ 7.5000\n",
      "  -> Found 'assignment' event for SOXS: buy 400.00000000 @ 8.0000\n",
      "  -> Found 'assignment' event for SOXS: buy 500.00000000 @ 11.0000\n",
      "  -> Found 'assignment' event for SOXS: buy 300.00000000 @ 15.5000\n",
      "Successfully added orders from option events to the journal.\n",
      "\n",
      "--- Stock order journal created successfully ---\n"
     ]
    },
    {
     "name": "stderr",
     "output_type": "stream",
     "text": [
      "/Users/panqian/School/sit/Robinhood-Trading-Risk-Management/dashApp/trading_journal.py:399: FutureWarning: DataFrameGroupBy.apply operated on the grouping columns. This behavior is deprecated, and in a future version of pandas the grouping columns will be excluded from the operation. Either pass `include_groups=False` to exclude the groupings or explicitly select the grouping columns after groupby to silence this warning.\n",
      "  .apply(calculate_summary)\n"
     ]
    },
    {
     "name": "stdout",
     "output_type": "stream",
     "text": [
      "\n",
      "--- Option order journal created successfully ---\n"
     ]
    }
   ],
   "source": [
    "print(\"\\n--- Creating stock and option journals ---\")\n",
    "# Load the stock orders DataFrame\n",
    "stock_orders_df = pd.read_csv(\"./data/stock_orders.csv\")\n",
    "journal_df, open_positions_df_agg = stock_order_journal(stock_orders_df)\n",
    "# Save the stock journal DataFrame to a CSV file\n",
    "journal_df.to_csv(\"./data/stock_journal.csv\", index=False)\n",
    "open_positions_df_agg.to_csv(\"./data/stock_open_positions.csv\", index=False)\n",
    "print(\"\\n--- Stock order journal created successfully ---\")\n",
    "\n",
    "# Load the option orders DataFrame\n",
    "option_orders_df = pd.read_csv(\"./data/option_orders.csv\")\n",
    "option_journal_df, open_positions_df = option_order_journal(\n",
    "    option_orders_df, start_date=\"2024-01-01\"\n",
    ")\n",
    "# Save the option journal DataFrame to a CSV file\n",
    "option_journal_df.to_csv(\"./data/option_journal.csv\", index=False)\n",
    "open_positions_df.to_csv(\"./data/option_open_positions.csv\", index=False)\n",
    "print(\"\\n--- Option order journal created successfully ---\")"
   ]
  },
  {
   "cell_type": "markdown",
   "id": "64691890",
   "metadata": {},
   "source": [
    "# risk manager"
   ]
  },
  {
   "cell_type": "code",
   "execution_count": 5,
   "id": "866c9b0e",
   "metadata": {},
   "outputs": [
    {
     "name": "stdout",
     "output_type": "stream",
     "text": [
      "\n",
      "--- Fetching aggregated greeks for all open positions ---\n",
      "\n",
      "--- Aggregated greeks for all open positions saved successfully ---\n"
     ]
    },
    {
     "name": "stderr",
     "output_type": "stream",
     "text": [
      "/Users/panqian/School/sit/Robinhood-Trading-Risk-Management/dashApp/trading_journal.py:473: SettingWithCopyWarning: \n",
      "A value is trying to be set on a copy of a slice from a DataFrame.\n",
      "Try using .loc[row_indexer,col_indexer] = value instead\n",
      "\n",
      "See the caveats in the documentation: https://pandas.pydata.org/pandas-docs/stable/user_guide/indexing.html#returning-a-view-versus-a-copy\n",
      "  df_greeks[col] = pd.to_numeric(df_greeks[col], errors=\"coerce\")\n",
      "/Users/panqian/School/sit/Robinhood-Trading-Risk-Management/dashApp/trading_journal.py:474: SettingWithCopyWarning: \n",
      "A value is trying to be set on a copy of a slice from a DataFrame.\n",
      "Try using .loc[row_indexer,col_indexer] = value instead\n",
      "\n",
      "See the caveats in the documentation: https://pandas.pydata.org/pandas-docs/stable/user_guide/indexing.html#returning-a-view-versus-a-copy\n",
      "  df_greeks[\"quantity\"] = pd.to_numeric(df_greeks[\"quantity\"], errors=\"coerce\")\n",
      "/Users/panqian/School/sit/Robinhood-Trading-Risk-Management/dashApp/trading_journal.py:475: SettingWithCopyWarning: \n",
      "A value is trying to be set on a copy of a slice from a DataFrame.\n",
      "Try using .loc[row_indexer,col_indexer] = value instead\n",
      "\n",
      "See the caveats in the documentation: https://pandas.pydata.org/pandas-docs/stable/user_guide/indexing.html#returning-a-view-versus-a-copy\n",
      "  df_greeks[\"sign\"] = df_greeks.apply(sign_from_side, axis=1)\n",
      "/Users/panqian/School/sit/Robinhood-Trading-Risk-Management/dashApp/trading_journal.py:485: FutureWarning: DataFrameGroupBy.apply operated on the grouping columns. This behavior is deprecated, and in a future version of pandas the grouping columns will be excluded from the operation. Either pass `include_groups=False` to exclude the groupings or explicitly select the grouping columns after groupby to silence this warning.\n",
      "  agg_result = df_greeks.groupby(\"symbol\").apply(agg_greeks).reset_index()\n"
     ]
    }
   ],
   "source": [
    "print(\"\\n--- Fetching aggregated greeks for all open positions ---\")\n",
    "df_greeks = greeks_manager(rh)\n",
    "# Save the aggregated greeks DataFrame to a CSV file\n",
    "df_greeks.to_csv(\"./data/greeks.csv\", index=False)\n",
    "print(\"\\n--- Aggregated greeks for all open positions saved successfully ---\")"
   ]
  },
  {
   "cell_type": "code",
   "execution_count": 6,
   "id": "70ff7500",
   "metadata": {},
   "outputs": [
    {
     "data": {
      "text/html": [
       "<div>\n",
       "<style scoped>\n",
       "    .dataframe tbody tr th:only-of-type {\n",
       "        vertical-align: middle;\n",
       "    }\n",
       "\n",
       "    .dataframe tbody tr th {\n",
       "        vertical-align: top;\n",
       "    }\n",
       "\n",
       "    .dataframe thead th {\n",
       "        text-align: right;\n",
       "    }\n",
       "</style>\n",
       "<table border=\"1\" class=\"dataframe\">\n",
       "  <thead>\n",
       "    <tr style=\"text-align: right;\">\n",
       "      <th></th>\n",
       "      <th>symbol</th>\n",
       "      <th>total_delta</th>\n",
       "      <th>total_gamma</th>\n",
       "      <th>total_theta</th>\n",
       "      <th>total_vega</th>\n",
       "      <th>total_rho</th>\n",
       "    </tr>\n",
       "  </thead>\n",
       "  <tbody>\n",
       "    <tr>\n",
       "      <th>0</th>\n",
       "      <td>MSTZ</td>\n",
       "      <td>1863.4325</td>\n",
       "      <td>-516.2858</td>\n",
       "      <td>8.3132</td>\n",
       "      <td>-2.0076</td>\n",
       "      <td>0.0580</td>\n",
       "    </tr>\n",
       "    <tr>\n",
       "      <th>1</th>\n",
       "      <td>SOXL</td>\n",
       "      <td>9.0543</td>\n",
       "      <td>-0.9813</td>\n",
       "      <td>1.8399</td>\n",
       "      <td>-3.1680</td>\n",
       "      <td>1.0626</td>\n",
       "    </tr>\n",
       "    <tr>\n",
       "      <th>2</th>\n",
       "      <td>SOXS</td>\n",
       "      <td>3470.7353</td>\n",
       "      <td>-678.5655</td>\n",
       "      <td>85.5566</td>\n",
       "      <td>27.4964</td>\n",
       "      <td>29.7735</td>\n",
       "    </tr>\n",
       "    <tr>\n",
       "      <th>3</th>\n",
       "      <td>SVIX</td>\n",
       "      <td>1043.0217</td>\n",
       "      <td>-321.4248</td>\n",
       "      <td>62.0953</td>\n",
       "      <td>-65.2846</td>\n",
       "      <td>-37.2057</td>\n",
       "    </tr>\n",
       "    <tr>\n",
       "      <th>4</th>\n",
       "      <td>TSLL</td>\n",
       "      <td>176.8300</td>\n",
       "      <td>-214.4254</td>\n",
       "      <td>75.3186</td>\n",
       "      <td>-4.1164</td>\n",
       "      <td>0.3480</td>\n",
       "    </tr>\n",
       "    <tr>\n",
       "      <th>5</th>\n",
       "      <td>UVIX</td>\n",
       "      <td>613.6214</td>\n",
       "      <td>-206.2526</td>\n",
       "      <td>124.4664</td>\n",
       "      <td>-14.2356</td>\n",
       "      <td>2.9415</td>\n",
       "    </tr>\n",
       "    <tr>\n",
       "      <th>6</th>\n",
       "      <td>YINN</td>\n",
       "      <td>146.0659</td>\n",
       "      <td>-11.4897</td>\n",
       "      <td>15.9069</td>\n",
       "      <td>-5.3313</td>\n",
       "      <td>-0.7736</td>\n",
       "    </tr>\n",
       "  </tbody>\n",
       "</table>\n",
       "</div>"
      ],
      "text/plain": [
       "  symbol  total_delta  total_gamma  total_theta  total_vega  total_rho\n",
       "0   MSTZ    1863.4325    -516.2858       8.3132     -2.0076     0.0580\n",
       "1   SOXL       9.0543      -0.9813       1.8399     -3.1680     1.0626\n",
       "2   SOXS    3470.7353    -678.5655      85.5566     27.4964    29.7735\n",
       "3   SVIX    1043.0217    -321.4248      62.0953    -65.2846   -37.2057\n",
       "4   TSLL     176.8300    -214.4254      75.3186     -4.1164     0.3480\n",
       "5   UVIX     613.6214    -206.2526     124.4664    -14.2356     2.9415\n",
       "6   YINN     146.0659     -11.4897      15.9069     -5.3313    -0.7736"
      ]
     },
     "execution_count": 6,
     "metadata": {},
     "output_type": "execute_result"
    }
   ],
   "source": [
    "df_greeks"
   ]
  },
  {
   "cell_type": "code",
   "execution_count": null,
   "id": "1a18dbd7",
   "metadata": {},
   "outputs": [],
   "source": []
  }
 ],
 "metadata": {
  "kernelspec": {
   "display_name": "robinhood",
   "language": "python",
   "name": "python3"
  },
  "language_info": {
   "codemirror_mode": {
    "name": "ipython",
    "version": 3
   },
   "file_extension": ".py",
   "mimetype": "text/x-python",
   "name": "python",
   "nbconvert_exporter": "python",
   "pygments_lexer": "ipython3",
   "version": "3.12.11"
  }
 },
 "nbformat": 4,
 "nbformat_minor": 5
}
